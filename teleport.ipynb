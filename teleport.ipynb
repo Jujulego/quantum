{
 "cells": [
  {
   "cell_type": "code",
   "execution_count": 1,
   "metadata": {
    "collapsed": true,
    "pycharm": {
     "is_executing": false
    }
   },
   "outputs": [],
   "source": [
    "from qiskit import ClassicalRegister, QuantumCircuit, QuantumRegister\n",
    "from qiskit import BasicAer\n",
    "from qiskit import execute\n",
    "from qiskit.visualization import plot_histogram\n",
    "\n",
    "# Setup\n",
    "coupling_map = [[0, 1], [0, 2], [1, 2], [3, 2], [3, 4], [4, 2]]\n",
    "backend = BasicAer.get_backend(\"qasm_simulator\")"
   ]
  },
  {
   "cell_type": "code",
   "execution_count": 2,
   "outputs": [
    {
     "name": "stdout",
     "text": [
      "        ┌─────────────────┐      ░      ┌───┐┌─┐ ░                  \nq_0: |0>┤ U3(0.3,0.2,0.1) ├──────░───■──┤ H ├┤M├─░──────────────────\n        └──────┬───┬──────┘      ░ ┌─┴─┐└┬─┬┘└╥┘ ░                  \nq_1: |0>───────┤ H ├─────────■───░─┤ X ├─┤M├──╫──░──────────────────\n               └───┘       ┌─┴─┐ ░ └───┘ └╥┘  ║  ░  ┌───┐  ┌───┐ ┌─┐\nq_2: |0>───────────────────┤ X ├─░────────╫───╫──░──┤ Z ├──┤ X ├─┤M├\n                           └───┘ ░        ║   ║  ░  └─┬─┘  └─┬─┘ └╥┘\n                                              ║    ┌──┴──┐   │    ║ \nc0_0: 0 ══════════════════════════════════════╩════╡ = 1 ╞═══╪════╬═\n                                          ║        └─────┘┌──┴──┐ ║ \nc1_0: 0 ══════════════════════════════════╩═══════════════╡ = 1 ╞═╬═\n                                                          └─────┘ ║ \nc2_0: 0 ══════════════════════════════════════════════════════════╩═\n                                                                    \n"
     ],
     "output_type": "stream"
    }
   ],
   "source": [
    "# Create éléments\n",
    "q = QuantumRegister(3, \"q\")\n",
    "c0 = ClassicalRegister(1, \"c0\")\n",
    "c1 = ClassicalRegister(1, \"c1\")\n",
    "c2 = ClassicalRegister(1, \"c2\")\n",
    "qc = QuantumCircuit(q, c0, c1, c2, name=\"teleport\")\n",
    "\n",
    "# Initial state\n",
    "qc.u3(0.3, 0.2, 0.1, q[0])\n",
    "\n",
    "# Prepare a Bell pair\n",
    "qc.h(q[1])\n",
    "qc.cx(q[1], q[2])\n",
    "\n",
    "# Barrier following state preparation\n",
    "qc.barrier(q)\n",
    "\n",
    "# Measure in the Bell basis\n",
    "qc.cx(q[0], q[1])\n",
    "qc.h(q[0])\n",
    "\n",
    "qc.measure(q[0], c0[0])\n",
    "qc.measure(q[1], c1[0])\n",
    "\n",
    "# Correction\n",
    "qc.barrier(q)\n",
    "qc.z(q[2]).c_if(c0, 1)\n",
    "qc.x(q[2]).c_if(c1, 1)\n",
    "qc.measure(q[2], c2[0])\n",
    "\n",
    "print(qc)"
   ],
   "metadata": {
    "collapsed": false,
    "pycharm": {
     "name": "#%%\n",
     "is_executing": false
    }
   }
  },
  {
   "cell_type": "code",
   "execution_count": 3,
   "outputs": [
    {
     "name": "stdout",
     "text": [
      "{'1 1 0': 6, '0 1 1': 245, '0 0 0': 253, '1 0 1': 4, '0 1 0': 226, '0 0 1': 276, '1 0 0': 5, '1 1 1': 9}\n"
     ],
     "output_type": "stream"
    },
    {
     "data": {
      "text/plain": "<Figure size 504x360 with 1 Axes>",
      "image/png": "[encoded data removed]"
     },
     "metadata": {},
     "output_type": "execute_result",
     "execution_count": 3
    }
   ],
   "source": [
    "initial_layout = {\n",
    "    q[0]: 0,\n",
    "    q[1]: 1,\n",
    "    q[2]: 2\n",
    "}\n",
    "\n",
    "job = execute(qc, backend=backend, coupling_map=coupling_map, shots=1024, initial_layout=initial_layout)\n",
    "result = job.result()\n",
    "counts = result.get_counts(qc)\n",
    "\n",
    "print(counts)\n",
    "plot_histogram(counts)"
   ],
   "metadata": {
    "collapsed": false,
    "pycharm": {
     "name": "#%%\n",
     "is_executing": false
    }
   }
  }
 ],
 "metadata": {
  "kernelspec": {
   "display_name": "Python 3",
   "language": "python",
   "name": "python3"
  },
  "language_info": {
   "codemirror_mode": {
    "name": "ipython",
    "version": 2
   },
   "file_extension": ".py",
   "mimetype": "text/x-python",
   "name": "python",
   "nbconvert_exporter": "python",
   "pygments_lexer": "ipython2",
   "version": "2.7.6"
  },
  "pycharm": {
   "stem_cell": {
    "cell_type": "raw",
    "source": [
     "%matplotlib inline"
    ],
    "metadata": {
     "collapsed": false
    }
   }
  }
 },
 "nbformat": 4,
 "nbformat_minor": 0
}